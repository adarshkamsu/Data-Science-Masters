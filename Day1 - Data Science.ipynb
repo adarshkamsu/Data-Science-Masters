{
 "cells": [
  {
   "cell_type": "code",
   "execution_count": 7,
   "id": "ba7287f4-86b2-4a52-bc5f-ada7ee51382d",
   "metadata": {},
   "outputs": [
    {
     "data": {
      "text/plain": [
       "2"
      ]
     },
     "execution_count": 7,
     "metadata": {},
     "output_type": "execute_result"
    }
   ],
   "source": [
    "1+1"
   ]
  },
  {
   "cell_type": "code",
   "execution_count": 9,
   "id": "34efc95e-34b2-4ee9-96d3-15fbcbe50c01",
   "metadata": {},
   "outputs": [
    {
     "data": {
      "text/plain": [
       "3"
      ]
     },
     "execution_count": 9,
     "metadata": {},
     "output_type": "execute_result"
    }
   ],
   "source": [
    "#we use this as a comment\n",
    "a=3\n",
    "a"
   ]
  },
  {
   "cell_type": "code",
   "execution_count": 11,
   "id": "ea8bbbd0-85ba-4943-95a8-bc3ed7c4db90",
   "metadata": {},
   "outputs": [
    {
     "data": {
      "text/plain": [
       "30"
      ]
     },
     "execution_count": 11,
     "metadata": {},
     "output_type": "execute_result"
    }
   ],
   "source": [
    "\"\"\"\n",
    "hello this is a \n",
    "an example of multy line commands\n",
    "\"\"\"\n",
    "a = 30\n",
    "a"
   ]
  },
  {
   "cell_type": "markdown",
   "id": "c5e551d2-9577-4fcc-848e-2bbc681dc0b0",
   "metadata": {},
   "source": [
    "# hello "
   ]
  },
  {
   "cell_type": "markdown",
   "id": "1b665d96-0509-4c2c-b807-039748d48b98",
   "metadata": {},
   "source": [
    "### Numbers"
   ]
  },
  {
   "cell_type": "code",
   "execution_count": 12,
   "id": "022ac4b7-10b3-44b2-802e-f1b1c0f9e94c",
   "metadata": {},
   "outputs": [
    {
     "data": {
      "text/plain": [
       "4"
      ]
     },
     "execution_count": 12,
     "metadata": {},
     "output_type": "execute_result"
    }
   ],
   "source": [
    "1+3"
   ]
  },
  {
   "cell_type": "code",
   "execution_count": 13,
   "id": "1f8bc3cb-d86d-4057-94ac-f79097855f49",
   "metadata": {},
   "outputs": [
    {
     "name": "stdout",
     "output_type": "stream",
     "text": [
      "4\n"
     ]
    }
   ],
   "source": [
    "print(1+3)"
   ]
  },
  {
   "cell_type": "markdown",
   "id": "36a58824-89d7-4f1f-a132-a8058d59e274",
   "metadata": {},
   "source": [
    "# Variable Assignment"
   ]
  },
  {
   "cell_type": "code",
   "execution_count": 16,
   "id": "006ff68e-3dda-441a-917a-b83289ef6b36",
   "metadata": {},
   "outputs": [],
   "source": [
    "name =\"adarsh\"\n",
    "company = \"ineuron\""
   ]
  },
  {
   "cell_type": "code",
   "execution_count": 18,
   "id": "f1dc016a-52df-4c9c-8cd2-ba4699c0f68a",
   "metadata": {},
   "outputs": [
    {
     "data": {
      "text/plain": [
       "('adarsh', 'ineuron')"
      ]
     },
     "execution_count": 18,
     "metadata": {},
     "output_type": "execute_result"
    }
   ],
   "source": [
    "name , company"
   ]
  },
  {
   "cell_type": "code",
   "execution_count": 19,
   "id": "e07f1a09-829b-47c1-9db4-bbd03bec0a00",
   "metadata": {},
   "outputs": [],
   "source": [
    "name = \"king\""
   ]
  },
  {
   "cell_type": "code",
   "execution_count": 20,
   "id": "8205deba-d8d8-4d8c-aab2-2d91a0430356",
   "metadata": {},
   "outputs": [
    {
     "data": {
      "text/plain": [
       "'king'"
      ]
     },
     "execution_count": 20,
     "metadata": {},
     "output_type": "execute_result"
    }
   ],
   "source": [
    "name\n"
   ]
  },
  {
   "cell_type": "code",
   "execution_count": 21,
   "id": "0fb01891-4bd9-4e6e-af6c-f09a07c3f462",
   "metadata": {},
   "outputs": [
    {
     "data": {
      "text/plain": [
       "str"
      ]
     },
     "execution_count": 21,
     "metadata": {},
     "output_type": "execute_result"
    }
   ],
   "source": [
    "type(\"\")"
   ]
  },
  {
   "cell_type": "code",
   "execution_count": 23,
   "id": "b02b674f-c0f1-41e5-a99e-9fc3d90c0cc6",
   "metadata": {},
   "outputs": [
    {
     "data": {
      "text/plain": [
       "str"
      ]
     },
     "execution_count": 23,
     "metadata": {},
     "output_type": "execute_result"
    }
   ],
   "source": [
    "type('')"
   ]
  },
  {
   "cell_type": "code",
   "execution_count": 24,
   "id": "817e9f05-cd8d-4dbd-816a-17042fdde865",
   "metadata": {},
   "outputs": [
    {
     "data": {
      "text/plain": [
       "int"
      ]
     },
     "execution_count": 24,
     "metadata": {},
     "output_type": "execute_result"
    }
   ],
   "source": [
    "type(10)"
   ]
  },
  {
   "cell_type": "code",
   "execution_count": 25,
   "id": "6fed2ae1-4f90-4af4-afe6-e4be86c8a7d1",
   "metadata": {},
   "outputs": [
    {
     "data": {
      "text/plain": [
       "float"
      ]
     },
     "execution_count": 25,
     "metadata": {},
     "output_type": "execute_result"
    }
   ],
   "source": [
    "type(9.9)"
   ]
  },
  {
   "cell_type": "code",
   "execution_count": 26,
   "id": "fe1c49ba-372a-49a7-9d6a-6577cb764eaa",
   "metadata": {},
   "outputs": [],
   "source": [
    "# varibles names are case sensitive"
   ]
  },
  {
   "cell_type": "code",
   "execution_count": 27,
   "id": "4cc9a9af-e51f-4468-aa97-5ad04a6ba99c",
   "metadata": {},
   "outputs": [
    {
     "data": {
      "text/plain": [
       "True"
      ]
     },
     "execution_count": 27,
     "metadata": {},
     "output_type": "execute_result"
    }
   ],
   "source": [
    "bool(1)"
   ]
  },
  {
   "cell_type": "markdown",
   "id": "f74ade53-fae3-4c57-b63e-899b09b92828",
   "metadata": {},
   "source": [
    "# dynamic typing"
   ]
  },
  {
   "cell_type": "code",
   "execution_count": 28,
   "id": "d73e91d9-53b9-41b4-bab4-f30776eacae5",
   "metadata": {},
   "outputs": [
    {
     "data": {
      "text/plain": [
       "1"
      ]
     },
     "execution_count": 28,
     "metadata": {},
     "output_type": "execute_result"
    }
   ],
   "source": [
    "int(1.54)"
   ]
  },
  {
   "cell_type": "code",
   "execution_count": 29,
   "id": "516d9b85-5e9e-4cfb-9a18-2ec7dd393be8",
   "metadata": {},
   "outputs": [],
   "source": [
    "## concatenation between diiferent types"
   ]
  },
  {
   "cell_type": "code",
   "execution_count": 30,
   "id": "4dc0a69a-7278-4fc6-85f8-fedbb8a5e0f1",
   "metadata": {},
   "outputs": [
    {
     "data": {
      "text/plain": [
       "'11'"
      ]
     },
     "execution_count": 30,
     "metadata": {},
     "output_type": "execute_result"
    }
   ],
   "source": [
    "\"1\" + \"1\" "
   ]
  },
  {
   "cell_type": "code",
   "execution_count": 31,
   "id": "29717088-ce20-4a18-8e46-c98998c1473d",
   "metadata": {},
   "outputs": [
    {
     "ename": "TypeError",
     "evalue": "unsupported operand type(s) for +: 'int' and 'str'",
     "output_type": "error",
     "traceback": [
      "\u001b[0;31m---------------------------------------------------------------------------\u001b[0m",
      "\u001b[0;31mTypeError\u001b[0m                                 Traceback (most recent call last)",
      "Cell \u001b[0;32mIn[31], line 1\u001b[0m\n\u001b[0;32m----> 1\u001b[0m \u001b[38;5;28;43mint\u001b[39;49m\u001b[43m(\u001b[49m\u001b[38;5;124;43m\"\u001b[39;49m\u001b[38;5;124;43m1\u001b[39;49m\u001b[38;5;124;43m\"\u001b[39;49m\u001b[43m)\u001b[49m\u001b[43m \u001b[49m\u001b[38;5;241;43m+\u001b[39;49m\u001b[43m \u001b[49m\u001b[38;5;124;43m\"\u001b[39;49m\u001b[38;5;124;43m1\u001b[39;49m\u001b[38;5;124;43m\"\u001b[39;49m \n",
      "\u001b[0;31mTypeError\u001b[0m: unsupported operand type(s) for +: 'int' and 'str'"
     ]
    }
   ],
   "source": [
    "int(\"1\") + \"1\" "
   ]
  },
  {
   "cell_type": "code",
   "execution_count": 32,
   "id": "108f0112-bf47-4c8b-b790-4300e734209d",
   "metadata": {},
   "outputs": [
    {
     "data": {
      "text/plain": [
       "'1111111111111111111111111111111111111111111111111111111111111111111111111111111111111111111111111111'"
      ]
     },
     "execution_count": 32,
     "metadata": {},
     "output_type": "execute_result"
    }
   ],
   "source": [
    "\"1\" * 100"
   ]
  },
  {
   "cell_type": "code",
   "execution_count": null,
   "id": "cc97be32-9c6c-42d7-9d54-4577458a2e73",
   "metadata": {},
   "outputs": [],
   "source": []
  }
 ],
 "metadata": {
  "kernelspec": {
   "display_name": "Python 3 (ipykernel)",
   "language": "python",
   "name": "python3"
  },
  "language_info": {
   "codemirror_mode": {
    "name": "ipython",
    "version": 3
   },
   "file_extension": ".py",
   "mimetype": "text/x-python",
   "name": "python",
   "nbconvert_exporter": "python",
   "pygments_lexer": "ipython3",
   "version": "3.10.8"
  }
 },
 "nbformat": 4,
 "nbformat_minor": 5
}
